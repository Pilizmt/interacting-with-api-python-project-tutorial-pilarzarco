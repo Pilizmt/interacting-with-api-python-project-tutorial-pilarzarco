{
    "cells": [
        {
            "cell_type": "markdown",
            "metadata": {},
            "source": [
                "#### Paso 3: Variables de entorno"
            ]
        },
        {
            "cell_type": "code",
            "execution_count": 56,
            "metadata": {},
            "outputs": [],
            "source": [
                "from dotenv import load_dotenv\n",
                "\n",
                "load_dotenv()\n",
                "\n",
                "import os\n",
                "\n",
                "client_id = os.environ.get(\"CLIENT_ID\")\n",
                "client_secret = os.environ.get(\"CLIENT_SECRET\")"
            ]
        },
        {
            "cell_type": "markdown",
            "metadata": {},
            "source": [
                "#### Paso 4: Inicializar la biblioteca Spotipy"
            ]
        },
        {
            "cell_type": "code",
            "execution_count": 57,
            "metadata": {},
            "outputs": [],
            "source": [
                "import spotipy\n",
                "from spotipy.oauth2 import SpotifyClientCredentials\n",
                "\n",
                "client_credentials_manager = SpotifyClientCredentials(client_id=client_id, client_secret=client_secret)\n",
                "sp = spotipy.Spotify(client_credentials_manager=client_credentials_manager)"
            ]
        },
        {
            "cell_type": "markdown",
            "metadata": {},
            "source": [
                "#### Paso 5: Realizar solicitudes a la API"
            ]
        },
        {
            "cell_type": "code",
            "execution_count": 58,
            "metadata": {},
            "outputs": [
                {
                    "name": "stdout",
                    "output_type": "stream",
                    "text": [
                        "Name: I Want It That Way\n",
                        "Artist: Backstreet Boys\n",
                        "URL: https://open.spotify.com/track/47BBI51FKFwOMlIiX6m8ya\n",
                        "\n",
                        "Name: Everybody (Backstreet's Back) - Radio Edit\n",
                        "Artist: Backstreet Boys\n",
                        "URL: https://open.spotify.com/track/7Jg65cOkLoiT7Q4vQqUvIG\n",
                        "\n",
                        "Name: As Long as You Love Me\n",
                        "Artist: Backstreet Boys\n",
                        "URL: https://open.spotify.com/track/00WvmRXTkPBZNhhRK3xfdy\n",
                        "\n",
                        "Name: Shape of My Heart\n",
                        "Artist: Backstreet Boys\n",
                        "URL: https://open.spotify.com/track/35o9a4iAfLl5jRmqMX9c1D\n",
                        "\n",
                        "Name: Quit Playing Games (With My Heart)\n",
                        "Artist: Backstreet Boys\n",
                        "URL: https://open.spotify.com/track/1nRwyxNsqCLeA17qR8Nfxx\n",
                        "\n",
                        "Name: Show Me the Meaning of Being Lonely\n",
                        "Artist: Backstreet Boys\n",
                        "URL: https://open.spotify.com/track/3BsaRV5QIulYz2lV9WWa8T\n",
                        "\n",
                        "Name: Larger Than Life\n",
                        "Artist: Backstreet Boys\n",
                        "URL: https://open.spotify.com/track/6sbXGUn9V9ZaLwLdOfpKRE\n",
                        "\n",
                        "Name: Everybody (Backstreet's Back) - Extended Version\n",
                        "Artist: Backstreet Boys\n",
                        "URL: https://open.spotify.com/track/5WTxbyWTpoqhdxEN2szOnl\n",
                        "\n",
                        "Name: Drowning\n",
                        "Artist: Backstreet Boys\n",
                        "URL: https://open.spotify.com/track/0AiTIiCQ15NW8QHQwSxKuR\n",
                        "\n",
                        "Name: Incomplete\n",
                        "Artist: Backstreet Boys\n",
                        "URL: https://open.spotify.com/track/0CnD7Hiw6pae6rLsZw5q5W\n",
                        "\n"
                    ]
                }
            ],
            "source": [
                "\n",
                "BSB_uri = \"spotify:artist:5rSXSAkZ67PYJSvpUpkOr7\"\n",
                "results = sp.artist_top_tracks(BSB_uri)\n",
                "\n",
                "# Get the first 10 songs\n",
                "if 'tracks' in results:\n",
                "    for track in results['tracks'][:10]:\n",
                "        print(f\"Name: {track['name']}\")\n",
                "        print(f\"Artist: {track['artists'][0]['name']}\")\n",
                "        print(f\"URL: {track['external_urls']['spotify']}\")\n",
                "        print()\n"
            ]
        },
        {
            "cell_type": "code",
            "execution_count": 59,
            "metadata": {},
            "outputs": [
                {
                    "name": "stdout",
                    "output_type": "stream",
                    "text": [
                        "Name: I Want It That Way\n",
                        "Popularity: 85\n",
                        "Duration: 3 minutes y 33 seconds\n",
                        "\n",
                        "Name: Everybody (Backstreet's Back) - Radio Edit\n",
                        "Popularity: 62\n",
                        "Duration: 3 minutes y 43 seconds\n",
                        "\n",
                        "Name: As Long as You Love Me\n",
                        "Popularity: 65\n",
                        "Duration: 3 minutes y 34 seconds\n",
                        "\n",
                        "Name: Shape of My Heart\n",
                        "Popularity: 75\n",
                        "Duration: 3 minutes y 50 seconds\n",
                        "\n",
                        "Name: Quit Playing Games (With My Heart)\n",
                        "Popularity: 61\n",
                        "Duration: 3 minutes y 53 seconds\n",
                        "\n",
                        "Name: Show Me the Meaning of Being Lonely\n",
                        "Popularity: 72\n",
                        "Duration: 3 minutes y 54 seconds\n",
                        "\n",
                        "Name: Larger Than Life\n",
                        "Popularity: 72\n",
                        "Duration: 3 minutes y 52 seconds\n",
                        "\n",
                        "Name: Everybody (Backstreet's Back) - Extended Version\n",
                        "Popularity: 62\n",
                        "Duration: 4 minutes y 47 seconds\n",
                        "\n",
                        "Name: Drowning\n",
                        "Popularity: 68\n",
                        "Duration: 4 minutes y 27 seconds\n",
                        "\n",
                        "Name: Incomplete\n",
                        "Popularity: 68\n",
                        "Duration: 3 minutes y 59 seconds\n",
                        "\n"
                    ]
                }
            ],
            "source": [
                "song_data = {\n",
                "    'Name': [],\n",
                "    'Popularity': [],\n",
                "    'Duration (min)': []\n",
                "}\n",
                "\n",
                "if 'tracks' in results:\n",
                "    for track in results['tracks'][:10]:  # Get the first 10 songs\n",
                "        name = track['name']\n",
                "        popularity = track['popularity']\n",
                "        duration_ms = track['duration_ms']\n",
                "        \n",
                "        # Converts duration from milliseconds to minutes and seconds\n",
                "        duration_minutes = duration_ms / 60000\n",
                "        duration_seconds = (duration_ms % 60000) / 1000\n",
                "\n",
                "        song_data['Name'].append(name)\n",
                "        song_data['Popularity'].append(popularity)\n",
                "        song_data['Duration (min)'].append(duration_minutes)\n",
                "    \n",
                "        print(f\"Name: {name}\")\n",
                "        print(f\"Popularity: {popularity}\")\n",
                "        print(f\"Duration: {int(duration_minutes)} minutes y {int(duration_seconds)} seconds\")\n",
                "        print()"
            ]
        },
        {
            "cell_type": "markdown",
            "metadata": {},
            "source": [
                "#### Paso 6: Transformar a Pandas DataFrame"
            ]
        },
        {
            "cell_type": "code",
            "execution_count": 60,
            "metadata": {},
            "outputs": [
                {
                    "data": {
                        "text/html": [
                            "<div>\n",
                            "<style scoped>\n",
                            "    .dataframe tbody tr th:only-of-type {\n",
                            "        vertical-align: middle;\n",
                            "    }\n",
                            "\n",
                            "    .dataframe tbody tr th {\n",
                            "        vertical-align: top;\n",
                            "    }\n",
                            "\n",
                            "    .dataframe thead th {\n",
                            "        text-align: right;\n",
                            "    }\n",
                            "</style>\n",
                            "<table border=\"1\" class=\"dataframe\">\n",
                            "  <thead>\n",
                            "    <tr style=\"text-align: right;\">\n",
                            "      <th></th>\n",
                            "      <th>Name</th>\n",
                            "      <th>Popularity</th>\n",
                            "      <th>Duration (min)</th>\n",
                            "    </tr>\n",
                            "  </thead>\n",
                            "  <tbody>\n",
                            "    <tr>\n",
                            "      <th>0</th>\n",
                            "      <td>I Want It That Way</td>\n",
                            "      <td>85</td>\n",
                            "      <td>3.555100</td>\n",
                            "    </tr>\n",
                            "    <tr>\n",
                            "      <th>3</th>\n",
                            "      <td>Shape of My Heart</td>\n",
                            "      <td>75</td>\n",
                            "      <td>3.834883</td>\n",
                            "    </tr>\n",
                            "    <tr>\n",
                            "      <th>5</th>\n",
                            "      <td>Show Me the Meaning of Being Lonely</td>\n",
                            "      <td>72</td>\n",
                            "      <td>3.916000</td>\n",
                            "    </tr>\n",
                            "  </tbody>\n",
                            "</table>\n",
                            "</div>"
                        ],
                        "text/plain": [
                            "                                  Name  Popularity  Duration (min)\n",
                            "0                   I Want It That Way          85        3.555100\n",
                            "3                    Shape of My Heart          75        3.834883\n",
                            "5  Show Me the Meaning of Being Lonely          72        3.916000"
                        ]
                    },
                    "execution_count": 60,
                    "metadata": {},
                    "output_type": "execute_result"
                }
            ],
            "source": [
                "import pandas as pd\n",
                "\n",
                "df = pd.DataFrame(song_data)\n",
                "\n",
                "df = df.sort_values(by='Popularity', ascending=False)\n",
                "df.head(3)"
            ]
        },
        {
            "cell_type": "markdown",
            "metadata": {},
            "source": [
                "#### Paso 7: Analizar relación estadística"
            ]
        },
        {
            "cell_type": "code",
            "execution_count": 61,
            "metadata": {},
            "outputs": [
                {
                    "data": {
                        "image/png": "[encoded data removed]",
                        "text/plain": [
                            "<Figure size 1000x600 with 1 Axes>"
                        ]
                    },
                    "metadata": {},
                    "output_type": "display_data"
                }
            ],
            "source": [
                "import matplotlib.pyplot as plt\n",
                "\n",
                "plt.figure(figsize=(10, 6))\n",
                "plt.scatter(df['Duration (min)'], df['Popularity'], alpha=0.7)\n",
                "plt.title('Relationship between Duration and Popularity of Songs')\n",
                "plt.xlabel('Duration (minutes)')\n",
                "plt.ylabel('Popularity')\n",
                "plt.grid(True)\n",
                "plt.show()\n"
            ]
        }
    ],
    "metadata": {
        "kernelspec": {
            "display_name": "Python 3.8.13 64-bit ('3.8.13')",
            "language": "python",
            "name": "python3"
        },
        "language_info": {
            "codemirror_mode": {
                "name": "ipython",
                "version": 3
            },
            "file_extension": ".py",
            "mimetype": "text/x-python",
            "name": "python",
            "nbconvert_exporter": "python",
            "pygments_lexer": "ipython3",
            "version": "3.11.4"
        },
        "orig_nbformat": 4,
        "vscode": {
            "interpreter": {
                "hash": "110cc1dee26208153f2972f08a2ad52b6a56238dc66d48e87fb757ef2996db56"
            }
        }
    },
    "nbformat": 4,
    "nbformat_minor": 2
}
